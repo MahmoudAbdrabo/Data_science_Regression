{
 "cells": [
  {
   "cell_type": "markdown",
   "id": "c28bf840",
   "metadata": {
    "papermill": {
     "duration": 0.008316,
     "end_time": "2024-07-31T18:31:04.937939",
     "exception": false,
     "start_time": "2024-07-31T18:31:04.929623",
     "status": "completed"
    },
    "tags": []
   },
   "source": [
    "# Boston Housing Prices\n",
    "Dataset\n",
    "This data was collected in 1978. It has 506 entries represents aggregate information about 14 features of homes from various suburbs located in Boston.\n",
    "\n",
    "Following are the features summary:\n",
    "\n",
    "### *CRIM:** Per capita crime by town\n",
    "### **ZN:** proportion of residential land zoned for lots over 25,000 sq.ft.\n",
    "### **INDUS:** proportion of non-retail business acres per town\n",
    "#### **CHAS:** Charles River dummy variable (= 1 if tract bounds river; 0 otherwise)\n",
    "### **NOX:** nitric oxides concentration (parts per 10 million)\n",
    "### **RM:** average number of rooms per dwelling\n",
    "### **AGE:** proportion of owner-occupied units built prior to 1940\n",
    "### **DIS: **weighted distances to ﬁve Boston employment centers\n",
    "### **RAD:** index of accessibility to radial highways\n",
    "### **TAX:** full-value property-tax rate per 10,000 dollers\n",
    "### **PTRATIO:** Pupil-teacher ratio by town\n",
    "### **B:** 1000(Bk−0.63)2 where Bk is the proportion of blacks by town\n",
    "### **LSTAT:** lower status of the population\n",
    "### **MEDV:** Median value of owner-occupied homes in $1000s"
   ]
  },
  {
   "cell_type": "markdown",
   "id": "6880b13b",
   "metadata": {
    "papermill": {
     "duration": 0.009222,
     "end_time": "2024-07-31T18:31:04.956735",
     "exception": false,
     "start_time": "2024-07-31T18:31:04.947513",
     "status": "completed"
    },
    "tags": []
   },
   "source": [
    "import numpy as np\n",
    "import pandas as pd \n",
    "import seaborn as sns\n",
    "import matplotlib.pyplot as plt"
   ]
  },
  {
   "cell_type": "code",
   "execution_count": 1,
   "id": "9e9d2718",
   "metadata": {
    "execution": {
     "iopub.execute_input": "2024-07-31T18:31:04.974725Z",
     "iopub.status.busy": "2024-07-31T18:31:04.974248Z",
     "iopub.status.idle": "2024-07-31T18:31:07.609225Z",
     "shell.execute_reply": "2024-07-31T18:31:07.607759Z"
    },
    "papermill": {
     "duration": 2.647613,
     "end_time": "2024-07-31T18:31:07.612482",
     "exception": false,
     "start_time": "2024-07-31T18:31:04.964869",
     "status": "completed"
    },
    "tags": []
   },
   "outputs": [],
   "source": [
    "import numpy as np \n",
    "import pandas as pd \n",
    "import seaborn as sns \n"
   ]
  },
  {
   "cell_type": "code",
   "execution_count": 2,
   "id": "bba6073f",
   "metadata": {
    "execution": {
     "iopub.execute_input": "2024-07-31T18:31:07.631241Z",
     "iopub.status.busy": "2024-07-31T18:31:07.630706Z",
     "iopub.status.idle": "2024-07-31T18:31:07.698585Z",
     "shell.execute_reply": "2024-07-31T18:31:07.697329Z"
    },
    "papermill": {
     "duration": 0.080527,
     "end_time": "2024-07-31T18:31:07.701239",
     "exception": false,
     "start_time": "2024-07-31T18:31:07.620712",
     "status": "completed"
    },
    "tags": []
   },
   "outputs": [
    {
     "data": {
      "text/html": [
       "<div>\n",
       "<style scoped>\n",
       "    .dataframe tbody tr th:only-of-type {\n",
       "        vertical-align: middle;\n",
       "    }\n",
       "\n",
       "    .dataframe tbody tr th {\n",
       "        vertical-align: top;\n",
       "    }\n",
       "\n",
       "    .dataframe thead th {\n",
       "        text-align: right;\n",
       "    }\n",
       "</style>\n",
       "<table border=\"1\" class=\"dataframe\">\n",
       "  <thead>\n",
       "    <tr style=\"text-align: right;\">\n",
       "      <th></th>\n",
       "      <th>crim</th>\n",
       "      <th>zn</th>\n",
       "      <th>indus</th>\n",
       "      <th>chas</th>\n",
       "      <th>nox</th>\n",
       "      <th>rm</th>\n",
       "      <th>age</th>\n",
       "      <th>dis</th>\n",
       "      <th>rad</th>\n",
       "      <th>tax</th>\n",
       "      <th>ptratio</th>\n",
       "      <th>b</th>\n",
       "      <th>lstat</th>\n",
       "      <th>medv</th>\n",
       "    </tr>\n",
       "  </thead>\n",
       "  <tbody>\n",
       "    <tr>\n",
       "      <th>0</th>\n",
       "      <td>0.00632</td>\n",
       "      <td>18.0</td>\n",
       "      <td>2.31</td>\n",
       "      <td>0</td>\n",
       "      <td>0.538</td>\n",
       "      <td>6.575</td>\n",
       "      <td>65.2</td>\n",
       "      <td>4.0900</td>\n",
       "      <td>1</td>\n",
       "      <td>296</td>\n",
       "      <td>15.3</td>\n",
       "      <td>396.90</td>\n",
       "      <td>4.98</td>\n",
       "      <td>24.0</td>\n",
       "    </tr>\n",
       "    <tr>\n",
       "      <th>1</th>\n",
       "      <td>0.02731</td>\n",
       "      <td>0.0</td>\n",
       "      <td>7.07</td>\n",
       "      <td>0</td>\n",
       "      <td>0.469</td>\n",
       "      <td>6.421</td>\n",
       "      <td>78.9</td>\n",
       "      <td>4.9671</td>\n",
       "      <td>2</td>\n",
       "      <td>242</td>\n",
       "      <td>17.8</td>\n",
       "      <td>396.90</td>\n",
       "      <td>9.14</td>\n",
       "      <td>21.6</td>\n",
       "    </tr>\n",
       "    <tr>\n",
       "      <th>2</th>\n",
       "      <td>0.02729</td>\n",
       "      <td>0.0</td>\n",
       "      <td>7.07</td>\n",
       "      <td>0</td>\n",
       "      <td>0.469</td>\n",
       "      <td>7.185</td>\n",
       "      <td>61.1</td>\n",
       "      <td>4.9671</td>\n",
       "      <td>2</td>\n",
       "      <td>242</td>\n",
       "      <td>17.8</td>\n",
       "      <td>392.83</td>\n",
       "      <td>4.03</td>\n",
       "      <td>34.7</td>\n",
       "    </tr>\n",
       "    <tr>\n",
       "      <th>3</th>\n",
       "      <td>0.03237</td>\n",
       "      <td>0.0</td>\n",
       "      <td>2.18</td>\n",
       "      <td>0</td>\n",
       "      <td>0.458</td>\n",
       "      <td>6.998</td>\n",
       "      <td>45.8</td>\n",
       "      <td>6.0622</td>\n",
       "      <td>3</td>\n",
       "      <td>222</td>\n",
       "      <td>18.7</td>\n",
       "      <td>394.63</td>\n",
       "      <td>2.94</td>\n",
       "      <td>33.4</td>\n",
       "    </tr>\n",
       "    <tr>\n",
       "      <th>4</th>\n",
       "      <td>0.06905</td>\n",
       "      <td>0.0</td>\n",
       "      <td>2.18</td>\n",
       "      <td>0</td>\n",
       "      <td>0.458</td>\n",
       "      <td>7.147</td>\n",
       "      <td>54.2</td>\n",
       "      <td>6.0622</td>\n",
       "      <td>3</td>\n",
       "      <td>222</td>\n",
       "      <td>18.7</td>\n",
       "      <td>396.90</td>\n",
       "      <td>5.33</td>\n",
       "      <td>36.2</td>\n",
       "    </tr>\n",
       "    <tr>\n",
       "      <th>...</th>\n",
       "      <td>...</td>\n",
       "      <td>...</td>\n",
       "      <td>...</td>\n",
       "      <td>...</td>\n",
       "      <td>...</td>\n",
       "      <td>...</td>\n",
       "      <td>...</td>\n",
       "      <td>...</td>\n",
       "      <td>...</td>\n",
       "      <td>...</td>\n",
       "      <td>...</td>\n",
       "      <td>...</td>\n",
       "      <td>...</td>\n",
       "      <td>...</td>\n",
       "    </tr>\n",
       "    <tr>\n",
       "      <th>501</th>\n",
       "      <td>0.06263</td>\n",
       "      <td>0.0</td>\n",
       "      <td>11.93</td>\n",
       "      <td>0</td>\n",
       "      <td>0.573</td>\n",
       "      <td>6.593</td>\n",
       "      <td>69.1</td>\n",
       "      <td>2.4786</td>\n",
       "      <td>1</td>\n",
       "      <td>273</td>\n",
       "      <td>21.0</td>\n",
       "      <td>391.99</td>\n",
       "      <td>9.67</td>\n",
       "      <td>22.4</td>\n",
       "    </tr>\n",
       "    <tr>\n",
       "      <th>502</th>\n",
       "      <td>0.04527</td>\n",
       "      <td>0.0</td>\n",
       "      <td>11.93</td>\n",
       "      <td>0</td>\n",
       "      <td>0.573</td>\n",
       "      <td>6.120</td>\n",
       "      <td>76.7</td>\n",
       "      <td>2.2875</td>\n",
       "      <td>1</td>\n",
       "      <td>273</td>\n",
       "      <td>21.0</td>\n",
       "      <td>396.90</td>\n",
       "      <td>9.08</td>\n",
       "      <td>20.6</td>\n",
       "    </tr>\n",
       "    <tr>\n",
       "      <th>503</th>\n",
       "      <td>0.06076</td>\n",
       "      <td>0.0</td>\n",
       "      <td>11.93</td>\n",
       "      <td>0</td>\n",
       "      <td>0.573</td>\n",
       "      <td>6.976</td>\n",
       "      <td>91.0</td>\n",
       "      <td>2.1675</td>\n",
       "      <td>1</td>\n",
       "      <td>273</td>\n",
       "      <td>21.0</td>\n",
       "      <td>396.90</td>\n",
       "      <td>5.64</td>\n",
       "      <td>23.9</td>\n",
       "    </tr>\n",
       "    <tr>\n",
       "      <th>504</th>\n",
       "      <td>0.10959</td>\n",
       "      <td>0.0</td>\n",
       "      <td>11.93</td>\n",
       "      <td>0</td>\n",
       "      <td>0.573</td>\n",
       "      <td>6.794</td>\n",
       "      <td>89.3</td>\n",
       "      <td>2.3889</td>\n",
       "      <td>1</td>\n",
       "      <td>273</td>\n",
       "      <td>21.0</td>\n",
       "      <td>393.45</td>\n",
       "      <td>6.48</td>\n",
       "      <td>22.0</td>\n",
       "    </tr>\n",
       "    <tr>\n",
       "      <th>505</th>\n",
       "      <td>0.04741</td>\n",
       "      <td>0.0</td>\n",
       "      <td>11.93</td>\n",
       "      <td>0</td>\n",
       "      <td>0.573</td>\n",
       "      <td>6.030</td>\n",
       "      <td>80.8</td>\n",
       "      <td>2.5050</td>\n",
       "      <td>1</td>\n",
       "      <td>273</td>\n",
       "      <td>21.0</td>\n",
       "      <td>396.90</td>\n",
       "      <td>7.88</td>\n",
       "      <td>11.9</td>\n",
       "    </tr>\n",
       "  </tbody>\n",
       "</table>\n",
       "<p>506 rows × 14 columns</p>\n",
       "</div>"
      ],
      "text/plain": [
       "        crim    zn  indus  chas    nox     rm   age     dis  rad  tax  \\\n",
       "0    0.00632  18.0   2.31     0  0.538  6.575  65.2  4.0900    1  296   \n",
       "1    0.02731   0.0   7.07     0  0.469  6.421  78.9  4.9671    2  242   \n",
       "2    0.02729   0.0   7.07     0  0.469  7.185  61.1  4.9671    2  242   \n",
       "3    0.03237   0.0   2.18     0  0.458  6.998  45.8  6.0622    3  222   \n",
       "4    0.06905   0.0   2.18     0  0.458  7.147  54.2  6.0622    3  222   \n",
       "..       ...   ...    ...   ...    ...    ...   ...     ...  ...  ...   \n",
       "501  0.06263   0.0  11.93     0  0.573  6.593  69.1  2.4786    1  273   \n",
       "502  0.04527   0.0  11.93     0  0.573  6.120  76.7  2.2875    1  273   \n",
       "503  0.06076   0.0  11.93     0  0.573  6.976  91.0  2.1675    1  273   \n",
       "504  0.10959   0.0  11.93     0  0.573  6.794  89.3  2.3889    1  273   \n",
       "505  0.04741   0.0  11.93     0  0.573  6.030  80.8  2.5050    1  273   \n",
       "\n",
       "     ptratio       b  lstat  medv  \n",
       "0       15.3  396.90   4.98  24.0  \n",
       "1       17.8  396.90   9.14  21.6  \n",
       "2       17.8  392.83   4.03  34.7  \n",
       "3       18.7  394.63   2.94  33.4  \n",
       "4       18.7  396.90   5.33  36.2  \n",
       "..       ...     ...    ...   ...  \n",
       "501     21.0  391.99   9.67  22.4  \n",
       "502     21.0  396.90   9.08  20.6  \n",
       "503     21.0  396.90   5.64  23.9  \n",
       "504     21.0  393.45   6.48  22.0  \n",
       "505     21.0  396.90   7.88  11.9  \n",
       "\n",
       "[506 rows x 14 columns]"
      ]
     },
     "execution_count": 2,
     "metadata": {},
     "output_type": "execute_result"
    }
   ],
   "source": [
    "df=pd.read_csv(r'/kaggle/input/boston-housing-price/BostonHousing.csv')\n",
    "df"
   ]
  },
  {
   "cell_type": "code",
   "execution_count": 3,
   "id": "959d8bbd",
   "metadata": {
    "execution": {
     "iopub.execute_input": "2024-07-31T18:31:07.720029Z",
     "iopub.status.busy": "2024-07-31T18:31:07.719655Z",
     "iopub.status.idle": "2024-07-31T18:31:07.744100Z",
     "shell.execute_reply": "2024-07-31T18:31:07.742765Z"
    },
    "papermill": {
     "duration": 0.037288,
     "end_time": "2024-07-31T18:31:07.746846",
     "exception": false,
     "start_time": "2024-07-31T18:31:07.709558",
     "status": "completed"
    },
    "tags": []
   },
   "outputs": [
    {
     "name": "stdout",
     "output_type": "stream",
     "text": [
      "<class 'pandas.core.frame.DataFrame'>\n",
      "RangeIndex: 506 entries, 0 to 505\n",
      "Data columns (total 14 columns):\n",
      " #   Column   Non-Null Count  Dtype  \n",
      "---  ------   --------------  -----  \n",
      " 0   crim     506 non-null    float64\n",
      " 1   zn       506 non-null    float64\n",
      " 2   indus    506 non-null    float64\n",
      " 3   chas     506 non-null    int64  \n",
      " 4   nox      506 non-null    float64\n",
      " 5   rm       506 non-null    float64\n",
      " 6   age      506 non-null    float64\n",
      " 7   dis      506 non-null    float64\n",
      " 8   rad      506 non-null    int64  \n",
      " 9   tax      506 non-null    int64  \n",
      " 10  ptratio  506 non-null    float64\n",
      " 11  b        506 non-null    float64\n",
      " 12  lstat    506 non-null    float64\n",
      " 13  medv     506 non-null    float64\n",
      "dtypes: float64(11), int64(3)\n",
      "memory usage: 55.5 KB\n"
     ]
    }
   ],
   "source": [
    "df.info()"
   ]
  },
  {
   "cell_type": "code",
   "execution_count": 4,
   "id": "8c5f1011",
   "metadata": {
    "execution": {
     "iopub.execute_input": "2024-07-31T18:31:07.766352Z",
     "iopub.status.busy": "2024-07-31T18:31:07.765360Z",
     "iopub.status.idle": "2024-07-31T18:31:07.774511Z",
     "shell.execute_reply": "2024-07-31T18:31:07.773269Z"
    },
    "papermill": {
     "duration": 0.021557,
     "end_time": "2024-07-31T18:31:07.777140",
     "exception": false,
     "start_time": "2024-07-31T18:31:07.755583",
     "status": "completed"
    },
    "tags": []
   },
   "outputs": [
    {
     "data": {
      "text/plain": [
       "crim       0\n",
       "zn         0\n",
       "indus      0\n",
       "chas       0\n",
       "nox        0\n",
       "rm         0\n",
       "age        0\n",
       "dis        0\n",
       "rad        0\n",
       "tax        0\n",
       "ptratio    0\n",
       "b          0\n",
       "lstat      0\n",
       "medv       0\n",
       "dtype: int64"
      ]
     },
     "execution_count": 4,
     "metadata": {},
     "output_type": "execute_result"
    }
   ],
   "source": [
    "df.isnull().sum()"
   ]
  },
  {
   "cell_type": "code",
   "execution_count": 5,
   "id": "35f8756e",
   "metadata": {
    "execution": {
     "iopub.execute_input": "2024-07-31T18:31:07.796354Z",
     "iopub.status.busy": "2024-07-31T18:31:07.795995Z",
     "iopub.status.idle": "2024-07-31T18:31:08.332136Z",
     "shell.execute_reply": "2024-07-31T18:31:08.330778Z"
    },
    "papermill": {
     "duration": 0.548789,
     "end_time": "2024-07-31T18:31:08.334790",
     "exception": false,
     "start_time": "2024-07-31T18:31:07.786001",
     "status": "completed"
    },
    "tags": []
   },
   "outputs": [
    {
     "name": "stderr",
     "output_type": "stream",
     "text": [
      "/opt/conda/lib/python3.10/site-packages/seaborn/_oldcore.py:1119: FutureWarning: use_inf_as_na option is deprecated and will be removed in a future version. Convert inf values to NaN before operating instead.\n",
      "  with pd.option_context('mode.use_inf_as_na', True):\n"
     ]
    },
    {
     "data": {
      "text/plain": [
       "<seaborn.axisgrid.FacetGrid at 0x7e38f478fd90>"
      ]
     },
     "execution_count": 5,
     "metadata": {},
     "output_type": "execute_result"
    },
    {
     "data": {
      "image/png": "[encoded data removed]",
      "text/plain": [
       "<Figure size 500x500 with 1 Axes>"
      ]
     },
     "metadata": {},
     "output_type": "display_data"
    }
   ],
   "source": [
    "sns.displot(df['age'])"
   ]
  },
  {
   "cell_type": "code",
   "execution_count": 6,
   "id": "3e11d17c",
   "metadata": {
    "execution": {
     "iopub.execute_input": "2024-07-31T18:31:08.355035Z",
     "iopub.status.busy": "2024-07-31T18:31:08.354655Z",
     "iopub.status.idle": "2024-07-31T18:31:08.684013Z",
     "shell.execute_reply": "2024-07-31T18:31:08.682884Z"
    },
    "papermill": {
     "duration": 0.342572,
     "end_time": "2024-07-31T18:31:08.686707",
     "exception": false,
     "start_time": "2024-07-31T18:31:08.344135",
     "status": "completed"
    },
    "tags": []
   },
   "outputs": [
    {
     "name": "stderr",
     "output_type": "stream",
     "text": [
      "/opt/conda/lib/python3.10/site-packages/seaborn/_oldcore.py:1119: FutureWarning: use_inf_as_na option is deprecated and will be removed in a future version. Convert inf values to NaN before operating instead.\n",
      "  with pd.option_context('mode.use_inf_as_na', True):\n"
     ]
    },
    {
     "data": {
      "text/plain": [
       "<seaborn.axisgrid.FacetGrid at 0x7e38f46d5720>"
      ]
     },
     "execution_count": 6,
     "metadata": {},
     "output_type": "execute_result"
    },
    {
     "data": {
      "image/png": "[encoded data removed]",
      "text/plain": [
       "<Figure size 500x500 with 1 Axes>"
      ]
     },
     "metadata": {},
     "output_type": "display_data"
    }
   ],
   "source": [
    "sns.displot(df['rad'])"
   ]
  },
  {
   "cell_type": "code",
   "execution_count": null,
   "id": "7eb5d4a1",
   "metadata": {
    "papermill": {
     "duration": 0.010094,
     "end_time": "2024-07-31T18:31:08.706958",
     "exception": false,
     "start_time": "2024-07-31T18:31:08.696864",
     "status": "completed"
    },
    "tags": []
   },
   "outputs": [],
   "source": []
  },
  {
   "cell_type": "code",
   "execution_count": 7,
   "id": "1222aff0",
   "metadata": {
    "execution": {
     "iopub.execute_input": "2024-07-31T18:31:08.728649Z",
     "iopub.status.busy": "2024-07-31T18:31:08.728188Z",
     "iopub.status.idle": "2024-07-31T18:31:09.973609Z",
     "shell.execute_reply": "2024-07-31T18:31:09.972358Z"
    },
    "papermill": {
     "duration": 1.262054,
     "end_time": "2024-07-31T18:31:09.978825",
     "exception": false,
     "start_time": "2024-07-31T18:31:08.716771",
     "status": "completed"
    },
    "tags": []
   },
   "outputs": [
    {
     "name": "stderr",
     "output_type": "stream",
     "text": [
      "/opt/conda/lib/python3.10/site-packages/seaborn/axisgrid.py:1826: FutureWarning: \n",
      "\n",
      "`shade` is now deprecated in favor of `fill`; setting `fill=True`.\n",
      "This will become an error in seaborn v0.14.0; please update your code.\n",
      "\n",
      "  func(x=self.x, y=self.y, **kwargs)\n",
      "/opt/conda/lib/python3.10/site-packages/seaborn/_oldcore.py:1119: FutureWarning: use_inf_as_na option is deprecated and will be removed in a future version. Convert inf values to NaN before operating instead.\n",
      "  with pd.option_context('mode.use_inf_as_na', True):\n",
      "/opt/conda/lib/python3.10/site-packages/seaborn/_oldcore.py:1119: FutureWarning: use_inf_as_na option is deprecated and will be removed in a future version. Convert inf values to NaN before operating instead.\n",
      "  with pd.option_context('mode.use_inf_as_na', True):\n",
      "/opt/conda/lib/python3.10/site-packages/seaborn/_oldcore.py:1119: FutureWarning: use_inf_as_na option is deprecated and will be removed in a future version. Convert inf values to NaN before operating instead.\n",
      "  with pd.option_context('mode.use_inf_as_na', True):\n",
      "/opt/conda/lib/python3.10/site-packages/seaborn/_oldcore.py:1119: FutureWarning: use_inf_as_na option is deprecated and will be removed in a future version. Convert inf values to NaN before operating instead.\n",
      "  with pd.option_context('mode.use_inf_as_na', True):\n"
     ]
    },
    {
     "data": {
      "text/plain": [
       "<seaborn.axisgrid.JointGrid at 0x7e38f46d26e0>"
      ]
     },
     "execution_count": 7,
     "metadata": {},
     "output_type": "execute_result"
    },
    {
     "data": {
      "image/png": "[encoded data removed]",
      "text/plain": [
       "<Figure size 800x800 with 3 Axes>"
      ]
     },
     "metadata": {},
     "output_type": "display_data"
    }
   ],
   "source": [
    "sns.jointplot(x='tax',y='medv',data=df,kind='kde',height=8,color='b',shade=True)"
   ]
  },
  {
   "cell_type": "code",
   "execution_count": 8,
   "id": "7328725d",
   "metadata": {
    "execution": {
     "iopub.execute_input": "2024-07-31T18:31:10.004604Z",
     "iopub.status.busy": "2024-07-31T18:31:10.004130Z",
     "iopub.status.idle": "2024-07-31T18:31:10.829387Z",
     "shell.execute_reply": "2024-07-31T18:31:10.828110Z"
    },
    "papermill": {
     "duration": 0.840015,
     "end_time": "2024-07-31T18:31:10.831944",
     "exception": false,
     "start_time": "2024-07-31T18:31:09.991929",
     "status": "completed"
    },
    "tags": []
   },
   "outputs": [
    {
     "name": "stderr",
     "output_type": "stream",
     "text": [
      "/opt/conda/lib/python3.10/site-packages/seaborn/_oldcore.py:1119: FutureWarning: use_inf_as_na option is deprecated and will be removed in a future version. Convert inf values to NaN before operating instead.\n",
      "  with pd.option_context('mode.use_inf_as_na', True):\n",
      "/opt/conda/lib/python3.10/site-packages/seaborn/_oldcore.py:1119: FutureWarning: use_inf_as_na option is deprecated and will be removed in a future version. Convert inf values to NaN before operating instead.\n",
      "  with pd.option_context('mode.use_inf_as_na', True):\n"
     ]
    },
    {
     "data": {
      "text/plain": [
       "<seaborn.axisgrid.JointGrid at 0x7e38f46ed8d0>"
      ]
     },
     "execution_count": 8,
     "metadata": {},
     "output_type": "execute_result"
    },
    {
     "data": {
      "image/png": "[encoded data removed]",
      "text/plain": [
       "<Figure size 800x800 with 3 Axes>"
      ]
     },
     "metadata": {},
     "output_type": "display_data"
    }
   ],
   "source": [
    "sns.jointplot(x='age',y='rad',data=df,kind='hex',height=8,color='b')"
   ]
  },
  {
   "cell_type": "code",
   "execution_count": 9,
   "id": "c4183ccc",
   "metadata": {
    "execution": {
     "iopub.execute_input": "2024-07-31T18:31:10.857935Z",
     "iopub.status.busy": "2024-07-31T18:31:10.857179Z",
     "iopub.status.idle": "2024-07-31T18:31:10.863720Z",
     "shell.execute_reply": "2024-07-31T18:31:10.862546Z"
    },
    "papermill": {
     "duration": 0.022426,
     "end_time": "2024-07-31T18:31:10.866318",
     "exception": false,
     "start_time": "2024-07-31T18:31:10.843892",
     "status": "completed"
    },
    "tags": []
   },
   "outputs": [],
   "source": [
    "numerical=df.select_dtypes(['float64','int64'])"
   ]
  },
  {
   "cell_type": "code",
   "execution_count": 10,
   "id": "1d0428bb",
   "metadata": {
    "execution": {
     "iopub.execute_input": "2024-07-31T18:31:10.892020Z",
     "iopub.status.busy": "2024-07-31T18:31:10.891590Z",
     "iopub.status.idle": "2024-07-31T18:31:10.896416Z",
     "shell.execute_reply": "2024-07-31T18:31:10.895270Z"
    },
    "papermill": {
     "duration": 0.020591,
     "end_time": "2024-07-31T18:31:10.899036",
     "exception": false,
     "start_time": "2024-07-31T18:31:10.878445",
     "status": "completed"
    },
    "tags": []
   },
   "outputs": [],
   "source": [
    "# for i in numerical:\n",
    "#     df[i]=pd.to_numeric(df[i],errors='coerce')"
   ]
  },
  {
   "cell_type": "code",
   "execution_count": 11,
   "id": "a8abad33",
   "metadata": {
    "execution": {
     "iopub.execute_input": "2024-07-31T18:31:10.925652Z",
     "iopub.status.busy": "2024-07-31T18:31:10.925224Z",
     "iopub.status.idle": "2024-07-31T18:31:11.434056Z",
     "shell.execute_reply": "2024-07-31T18:31:11.432905Z"
    },
    "papermill": {
     "duration": 0.525984,
     "end_time": "2024-07-31T18:31:11.436918",
     "exception": false,
     "start_time": "2024-07-31T18:31:10.910934",
     "status": "completed"
    },
    "tags": []
   },
   "outputs": [],
   "source": [
    "from sklearn.impute import KNNImputer\n",
    "imputer=KNNImputer()\n",
    "for col in numerical:\n",
    "    df[col]=imputer.fit_transform(df[[col]])"
   ]
  },
  {
   "cell_type": "code",
   "execution_count": 12,
   "id": "1495eb4e",
   "metadata": {
    "execution": {
     "iopub.execute_input": "2024-07-31T18:31:11.463685Z",
     "iopub.status.busy": "2024-07-31T18:31:11.462693Z",
     "iopub.status.idle": "2024-07-31T18:31:11.470212Z",
     "shell.execute_reply": "2024-07-31T18:31:11.468985Z"
    },
    "papermill": {
     "duration": 0.023718,
     "end_time": "2024-07-31T18:31:11.472789",
     "exception": false,
     "start_time": "2024-07-31T18:31:11.449071",
     "status": "completed"
    },
    "tags": []
   },
   "outputs": [],
   "source": [
    "x=df.drop('medv',axis=1)\n",
    "y=df['medv']"
   ]
  },
  {
   "cell_type": "code",
   "execution_count": 13,
   "id": "979360d0",
   "metadata": {
    "execution": {
     "iopub.execute_input": "2024-07-31T18:31:11.499154Z",
     "iopub.status.busy": "2024-07-31T18:31:11.498734Z",
     "iopub.status.idle": "2024-07-31T18:31:11.510763Z",
     "shell.execute_reply": "2024-07-31T18:31:11.509488Z"
    },
    "papermill": {
     "duration": 0.028485,
     "end_time": "2024-07-31T18:31:11.513258",
     "exception": false,
     "start_time": "2024-07-31T18:31:11.484773",
     "status": "completed"
    },
    "tags": []
   },
   "outputs": [
    {
     "data": {
      "text/plain": [
       "medv\n",
       "50.0    16\n",
       "25.0     8\n",
       "22.0     7\n",
       "21.7     7\n",
       "23.1     7\n",
       "        ..\n",
       "32.9     1\n",
       "34.6     1\n",
       "30.3     1\n",
       "33.3     1\n",
       "8.1      1\n",
       "Name: count, Length: 229, dtype: int64"
      ]
     },
     "execution_count": 13,
     "metadata": {},
     "output_type": "execute_result"
    }
   ],
   "source": [
    "df['medv'].value_counts()"
   ]
  },
  {
   "cell_type": "code",
   "execution_count": 14,
   "id": "0cfcb4ec",
   "metadata": {
    "execution": {
     "iopub.execute_input": "2024-07-31T18:31:11.538992Z",
     "iopub.status.busy": "2024-07-31T18:31:11.538562Z",
     "iopub.status.idle": "2024-07-31T18:31:11.549498Z",
     "shell.execute_reply": "2024-07-31T18:31:11.548265Z"
    },
    "papermill": {
     "duration": 0.02685,
     "end_time": "2024-07-31T18:31:11.552053",
     "exception": false,
     "start_time": "2024-07-31T18:31:11.525203",
     "status": "completed"
    },
    "tags": []
   },
   "outputs": [],
   "source": [
    "from sklearn.model_selection import train_test_split\n",
    "x_train,x_test,y_train,y_test=train_test_split(x,y,test_size=.3,random_state=42)"
   ]
  },
  {
   "cell_type": "code",
   "execution_count": 15,
   "id": "838584df",
   "metadata": {
    "execution": {
     "iopub.execute_input": "2024-07-31T18:31:11.578354Z",
     "iopub.status.busy": "2024-07-31T18:31:11.577572Z",
     "iopub.status.idle": "2024-07-31T18:31:11.583016Z",
     "shell.execute_reply": "2024-07-31T18:31:11.581904Z"
    },
    "papermill": {
     "duration": 0.021227,
     "end_time": "2024-07-31T18:31:11.585334",
     "exception": false,
     "start_time": "2024-07-31T18:31:11.564107",
     "status": "completed"
    },
    "tags": []
   },
   "outputs": [],
   "source": [
    "from sklearn.preprocessing import StandardScaler\n",
    "scaler=StandardScaler()"
   ]
  },
  {
   "cell_type": "code",
   "execution_count": 16,
   "id": "bcf5a1c7",
   "metadata": {
    "execution": {
     "iopub.execute_input": "2024-07-31T18:31:11.610934Z",
     "iopub.status.busy": "2024-07-31T18:31:11.610527Z",
     "iopub.status.idle": "2024-07-31T18:31:11.624120Z",
     "shell.execute_reply": "2024-07-31T18:31:11.623037Z"
    },
    "papermill": {
     "duration": 0.029325,
     "end_time": "2024-07-31T18:31:11.626633",
     "exception": false,
     "start_time": "2024-07-31T18:31:11.597308",
     "status": "completed"
    },
    "tags": []
   },
   "outputs": [],
   "source": [
    "scaler.fit(x_train)\n",
    "x_train=scaler.transform(x_train)\n",
    "x_test=scaler.transform(x_test)"
   ]
  },
  {
   "cell_type": "code",
   "execution_count": 17,
   "id": "23537570",
   "metadata": {
    "execution": {
     "iopub.execute_input": "2024-07-31T18:31:11.652352Z",
     "iopub.status.busy": "2024-07-31T18:31:11.651943Z",
     "iopub.status.idle": "2024-07-31T18:31:11.956538Z",
     "shell.execute_reply": "2024-07-31T18:31:11.955301Z"
    },
    "papermill": {
     "duration": 0.320693,
     "end_time": "2024-07-31T18:31:11.959310",
     "exception": false,
     "start_time": "2024-07-31T18:31:11.638617",
     "status": "completed"
    },
    "tags": []
   },
   "outputs": [],
   "source": [
    "from sklearn.neighbors import KNeighborsRegressor\n",
    "from sklearn.ensemble import RandomForestRegressor\n",
    "from xgboost import XGBRegressor\n",
    "from sklearn.metrics import accuracy_score , mean_squared_error,r2_score "
   ]
  },
  {
   "cell_type": "code",
   "execution_count": 18,
   "id": "1267b89e",
   "metadata": {
    "execution": {
     "iopub.execute_input": "2024-07-31T18:31:11.986087Z",
     "iopub.status.busy": "2024-07-31T18:31:11.985693Z",
     "iopub.status.idle": "2024-07-31T18:31:11.993072Z",
     "shell.execute_reply": "2024-07-31T18:31:11.991867Z"
    },
    "papermill": {
     "duration": 0.024144,
     "end_time": "2024-07-31T18:31:11.995556",
     "exception": false,
     "start_time": "2024-07-31T18:31:11.971412",
     "status": "completed"
    },
    "tags": []
   },
   "outputs": [],
   "source": [
    "models={\n",
    "      'KNeighborsRegressor':KNeighborsRegressor(),\n",
    "      'RandomForestRegressor':RandomForestRegressor(), \n",
    "      'XGBRegressor':XGBRegressor()}"
   ]
  },
  {
   "cell_type": "code",
   "execution_count": null,
   "id": "0a5c70ae",
   "metadata": {
    "papermill": {
     "duration": 0.011765,
     "end_time": "2024-07-31T18:31:12.019693",
     "exception": false,
     "start_time": "2024-07-31T18:31:12.007928",
     "status": "completed"
    },
    "tags": []
   },
   "outputs": [],
   "source": []
  },
  {
   "cell_type": "code",
   "execution_count": 19,
   "id": "4b7c8b74",
   "metadata": {
    "execution": {
     "iopub.execute_input": "2024-07-31T18:31:12.045518Z",
     "iopub.status.busy": "2024-07-31T18:31:12.045069Z",
     "iopub.status.idle": "2024-07-31T18:31:12.645838Z",
     "shell.execute_reply": "2024-07-31T18:31:12.644944Z"
    },
    "papermill": {
     "duration": 0.616751,
     "end_time": "2024-07-31T18:31:12.648338",
     "exception": false,
     "start_time": "2024-07-31T18:31:12.031587",
     "status": "completed"
    },
    "tags": []
   },
   "outputs": [
    {
     "name": "stdout",
     "output_type": "stream",
     "text": [
      "Using model KNeighborsRegressor :\n",
      "\n",
      "Training Score :84.86724539589108\n",
      "Test Score :74.72251108326438\n",
      "\n",
      "RMSE : 4.339935422755068\n",
      "R2scor : 0.7472251108326438\n",
      "--------------------\n",
      "Using model RandomForestRegressor :\n",
      "\n",
      "Training Score :97.81274875372968\n",
      "Test Score :87.06903794774405\n",
      "\n",
      "RMSE : 3.104071537809994\n",
      "R2scor : 0.8706903794774404\n",
      "--------------------\n",
      "Using model XGBRegressor :\n",
      "\n",
      "Training Score :99.99977306758548\n",
      "Test Score :87.29544676981908\n",
      "\n",
      "RMSE : 3.076776867092451\n",
      "R2scor : 0.8729544676981909\n",
      "--------------------\n"
     ]
    }
   ],
   "source": [
    "for name,model in models.items():\n",
    "    print(f'Using model {name} :\\n')\n",
    "    model.fit(x_train,y_train)\n",
    "    y_pred=model.predict(x_test)\n",
    "\n",
    "    print(f'Training Score :{model.score(x_train,y_train)*100}')\n",
    "    print(f'Test Score :{model.score(x_test,y_test)*100}\\n')\n",
    "    print(f'RMSE : {np.sqrt(mean_squared_error(y_test,y_pred))}')\n",
    "    print(f'R2scor : {(r2_score(y_test,y_pred))}')\n",
    "    print('-'*20)"
   ]
  }
 ],
 "metadata": {
  "kaggle": {
   "accelerator": "none",
   "dataSources": [
    {
     "datasetId": 5475742,
     "sourceId": 9076797,
     "sourceType": "datasetVersion"
    }
   ],
   "dockerImageVersionId": 30746,
   "isGpuEnabled": false,
   "isInternetEnabled": true,
   "language": "python",
   "sourceType": "notebook"
  },
  "kernelspec": {
   "display_name": "Python 3",
   "language": "python",
   "name": "python3"
  },
  "language_info": {
   "codemirror_mode": {
    "name": "ipython",
    "version": 3
   },
   "file_extension": ".py",
   "mimetype": "text/x-python",
   "name": "python",
   "nbconvert_exporter": "python",
   "pygments_lexer": "ipython3",
   "version": "3.10.13"
  },
  "papermill": {
   "default_parameters": {},
   "duration": 11.643113,
   "end_time": "2024-07-31T18:31:13.384364",
   "environment_variables": {},
   "exception": null,
   "input_path": "__notebook__.ipynb",
   "output_path": "__notebook__.ipynb",
   "parameters": {},
   "start_time": "2024-07-31T18:31:01.741251",
   "version": "2.5.0"
  },
  "widgets": {
   "application/vnd.jupyter.widget-state+json": {
    "state": {},
    "version_major": 2,
    "version_minor": 0
   }
  }
 },
 "nbformat": 4,
 "nbformat_minor": 5
}
